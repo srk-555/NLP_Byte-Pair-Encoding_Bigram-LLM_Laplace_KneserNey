{
 "cells": [
  {
   "cell_type": "code",
   "execution_count": 24,
   "id": "0d754bd0",
   "metadata": {},
   "outputs": [
    {
     "name": "stdout",
     "output_type": "stream",
     "text": [
      "$ i feel about their progeny who should be stubborn "
     ]
    }
   ],
   "source": [
    "import numpy as np\n",
    "from collections import defaultdict\n",
    "\n",
    "class BigramLM:\n",
    "    def __init__(self):\n",
    "        self.bigram_counts = defaultdict(lambda: defaultdict(int))\n",
    "        self.unigram_counts = defaultdict(int)\n",
    "        self.bigramDictionary = defaultdict(int)\n",
    "        self.bigramProbabilities = defaultdict(int)\n",
    "\n",
    "    def learn_model(self, dataset):\n",
    "        for sentence in dataset:\n",
    "            tokens = sentence\n",
    "            tokens.append('$')  # Adding End of Sentence marker\n",
    "            for i in range(len(tokens)):\n",
    "                prev_token = tokens[i - 1]\n",
    "                current_token = tokens[i]\n",
    "\n",
    "                self.bigram_counts[prev_token][current_token] += 1\n",
    "                self.unigram_counts[prev_token] += 1\n",
    "                self.bigramDictionary[(prev_token, current_token)] += 1\n",
    "        self.calculate_probability()\n",
    "        \n",
    "    def calculate_probability(self):\n",
    "        for bigram in self.bigramDictionary:\n",
    "            self.bigramProbabilities[bigram] = (self.bigramDictionary[bigram]) / (self.unigram_counts[bigram[0]])\n",
    "\n",
    "    def generate_next_token(self, prev_token):\n",
    "        if prev_token in self.bigram_counts:\n",
    "            next_tokens = list(self.bigram_counts[prev_token].keys())\n",
    "            probabilities = [self.bigramProbabilities[(prev_token, token)] for token in next_tokens]\n",
    "            \n",
    "            # Choose the next token based on probabilities\n",
    "            next_token = np.random.choice(next_tokens, p=probabilities)\n",
    "            return next_token\n",
    "\n",
    "        return None\n",
    "\n",
    "with open(\"corpus.txt\", \"r\", encoding=\"utf-8\") as file:\n",
    "    corpus = [line.strip().split() for line in file] \n",
    "\n",
    "bigram_model = BigramLM()\n",
    "bigram_model.learn_model(corpus)\n",
    "\n",
    "prev_token = \"$\"\n",
    "for i in range(10):\n",
    "    next_token = bigram_model.generate_next_token(prev_token)\n",
    "    print(prev_token, end=\" \")\n",
    "    prev_token = next_token"
   ]
  },
  {
   "cell_type": "code",
   "execution_count": null,
   "id": "112e02ae",
   "metadata": {},
   "outputs": [],
   "source": []
  }
 ],
 "metadata": {
  "kernelspec": {
   "display_name": "Python 3 (ipykernel)",
   "language": "python",
   "name": "python3"
  },
  "language_info": {
   "codemirror_mode": {
    "name": "ipython",
    "version": 3
   },
   "file_extension": ".py",
   "mimetype": "text/x-python",
   "name": "python",
   "nbconvert_exporter": "python",
   "pygments_lexer": "ipython3",
   "version": "3.9.13"
  }
 },
 "nbformat": 4,
 "nbformat_minor": 5
}
